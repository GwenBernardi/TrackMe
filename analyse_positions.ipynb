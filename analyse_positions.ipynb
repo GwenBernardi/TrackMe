{
 "cells": [
  {
   "cell_type": "code",
   "execution_count": 1,
   "metadata": {},
   "outputs": [],
   "source": [
    "# -*- coding: utf-8 -*-\n",
    "import os\n",
    "import json"
   ]
  },
  {
   "cell_type": "code",
   "execution_count": 2,
   "metadata": {},
   "outputs": [],
   "source": [
    "PATH = \"Historique des positions/Semantic Location History\""
   ]
  },
  {
   "cell_type": "code",
   "execution_count": 3,
   "metadata": {},
   "outputs": [],
   "source": [
    "class PlaceVisit:\n",
    "\n",
    "    def __init__(self, json_block):\n",
    "\n",
    "        self.latitudeE7  = json_block['placeVisit'][\"location\"][\"latitudeE7\"]\n",
    "        self.longitudeE7 = json_block['placeVisit'][\"location\"][\"longitudeE7\"]\n",
    "        try:\n",
    "            self.address     = json_block['placeVisit'][\"location\"][\"address\"]\n",
    "        except:\n",
    "            self.address = \"\"   \n",
    "        self.name        = json_block['placeVisit'][\"location\"][\"name\"]\n",
    "\n",
    "        self.startTimestamp = json_block[\"placeVisit\"][\"duration\"][\"startTimestamp\"]\n",
    "        self.endTimestamp = json_block[\"placeVisit\"][\"duration\"][\"endTimestamp\"]\n",
    "\n",
    "    def print_information(self):\n",
    "        print(\"Lieux : \\n\")\n",
    "        print(\"Localisation Latitude E7: \" , self.latitudeE7)\n",
    "        print(\"Localisation Longitude E7: \", self.longitudeE7)\n",
    "        print(\"Localisation Adresse: \"     , self.address)\n",
    "        print(\"Localisation Nom: \"         , self.name)\n",
    "\n",
    "        print(\"De : \", self.startTimestamp)\n",
    "        print(\"A : \", self.startTimestamp)\n",
    "\n",
    "        print(\"-------------------------------------------\\n\")\n",
    "        "
   ]
  },
  {
   "cell_type": "code",
   "execution_count": 26,
   "metadata": {},
   "outputs": [],
   "source": [
    "class ActivitySegment:\n",
    "\n",
    "    def __init__ (self, json_block):\n",
    "        \n",
    "        self.startLatitudeE7  = float(json_block[\"activitySegment\"][\"startLocation\"][\"latitudeE7\"])/10000000\n",
    "        self.startLongitudeE7 = float(json_block[\"activitySegment\"][\"startLocation\"][\"longitudeE7\"])/10000000\n",
    "        self.endLatitudeE7    = float(json_block[\"activitySegment\"][\"endLocation\"][\"latitudeE7\"])/10000000\n",
    "        self.endLongitudeE7   = float(json_block[\"activitySegment\"][\"endLocation\"][\"longitudeE7\"])/10000000\n",
    "\n",
    "        self.starTimestamp = json_block[\"activitySegment\"][\"duration\"][\"startTimestamp\"]\n",
    "        self.endTimestamp = json_block[\"activitySegment\"][\"duration\"][\"endTimestamp\"]\n",
    "\n",
    "        # On prend le premier par défaut\n",
    "        self.transport = json_block[\"activitySegment\"][\"activities\"][0][\"activityType\"]\n",
    "        \n",
    "        # Récupérer la distance parcouru\n",
    "        try:\n",
    "            self.distance  = json_block[\"activitySegment\"][\"distance\"]\n",
    "        except:\n",
    "            self.distance = 0\n",
    "\n",
    "        # Parcours des transports pour récolter celui qui à la plus grande probabilité\n",
    "        proba = 0.0\n",
    "        for i in json_block[\"activitySegment\"][\"activities\"]:\n",
    "            if i[\"probability\"] > proba:\n",
    "                proba = i[\"probability\"]\n",
    "                self.transport = i[\"activityType\"]\n",
    "\n",
    "        self.wayPoint = []\n",
    "\n",
    "    def print_information(self):\n",
    "        print(\"Dépalcement : \\n\")\n",
    "        print(\"Localisation Latitude E7 de départ : \" , self.startLatitudeE7)\n",
    "        print(\"Localisation Longitude E7 de départ : \", self.startLongitudeE7)\n",
    "        print(\"Localisation Latitude E7 d'arrivée : \" , self.endLatitudeE7)\n",
    "        print(\"Localisation Longitude E7 d'arrivée : \", self.endLongitudeE7)\n",
    "        print(\"Date de départ : \"                     , self.starTimestamp)\n",
    "        print(\"Date d'arrivée : \"                     , self.endTimestamp)\n",
    "        print(\"Moyen de transport : \"                 , self.transport)\n",
    "        print(\"Distance : \", self.distance)\n",
    "\n",
    "        print(\"-------------------------------------------\\n\")\n"
   ]
  },
  {
   "cell_type": "code",
   "execution_count": 27,
   "metadata": {},
   "outputs": [
    {
     "name": "stdout",
     "output_type": "stream",
     "text": [
      "Problème avec le JSON :  <_io.TextIOWrapper name='Historique des positions/Semantic Location History\\\\2019\\\\2019_AUGUST.json' mode='r' encoding='cp1252'>\n"
     ]
    }
   ],
   "source": [
    "Places = []\n",
    "Activity = []\n",
    "\n",
    "for date in os.listdir(PATH):\n",
    "    month_path = os.path.join(PATH, date)\n",
    "    for month in os.listdir(month_path):\n",
    "        file = os.path.join(month_path, month)\n",
    "        with open(file, 'r') as json_file:\n",
    "            try:\n",
    "                data = json.load(json_file)\n",
    "            except:\n",
    "                print(\"Problème avec le JSON : \", json_file)\n",
    "            timelineObjects = data[\"timelineObjects\"]\n",
    "\n",
    "            for action in timelineObjects:\n",
    "                if \"placeVisit\" in str(action.keys()):\n",
    "                    current_Place = PlaceVisit(action)\n",
    "                    Places.append(current_Place)\n",
    "                    #current_Place.print_information()\n",
    "                else:\n",
    "                    current_activity = ActivitySegment(action)\n",
    "                    Activity.append(current_activity)\n",
    "                    #current_activity.print_information()"
   ]
  },
  {
   "cell_type": "code",
   "execution_count": 29,
   "metadata": {},
   "outputs": [
    {
     "name": "stdout",
     "output_type": "stream",
     "text": [
      "Dépalcement : \n",
      "\n",
      "Localisation Latitude E7 de départ :  40.4957722\n",
      "Localisation Longitude E7 de départ :  -80.2413113\n",
      "Localisation Latitude E7 d'arrivée :  40.6413111\n",
      "Localisation Longitude E7 d'arrivée :  -73.7781391\n",
      "Date de départ :  2017-08-27T17:24:02Z\n",
      "Date d'arrivée :  2017-08-27T22:08:54.080Z\n",
      "Moyen de transport :  FLYING\n",
      "Distance :  545999\n",
      "-------------------------------------------\n",
      "\n",
      "Dépalcement : \n",
      "\n",
      "Localisation Latitude E7 de départ :  40.6413111\n",
      "Localisation Longitude E7 de départ :  -73.7781391\n",
      "Localisation Latitude E7 d'arrivée :  49.0096906\n",
      "Localisation Longitude E7 d'arrivée :  2.5479245\n",
      "Date de départ :  2017-08-27T22:21:19.090Z\n",
      "Date d'arrivée :  2017-08-28T10:01:16.676Z\n",
      "Moyen de transport :  FLYING\n",
      "Distance :  5837305\n",
      "-------------------------------------------\n",
      "\n",
      "Dépalcement : \n",
      "\n",
      "Localisation Latitude E7 de départ :  40.4963789\n",
      "Localisation Longitude E7 de départ :  -80.2450896\n",
      "Localisation Latitude E7 d'arrivée :  40.6895314\n",
      "Localisation Longitude E7 d'arrivée :  -74.1744624\n",
      "Date de départ :  2017-12-23T14:58:04.532Z\n",
      "Date d'arrivée :  2017-12-23T20:22:48.822Z\n",
      "Moyen de transport :  FLYING\n",
      "Distance :  582476\n",
      "-------------------------------------------\n",
      "\n",
      "Dépalcement : \n",
      "\n",
      "Localisation Latitude E7 de départ :  40.4957722\n",
      "Localisation Longitude E7 de départ :  -80.2413113\n",
      "Localisation Latitude E7 d'arrivée :  40.6413111\n",
      "Localisation Longitude E7 d'arrivée :  -73.7781391\n",
      "Date de départ :  2018-04-07T14:27:50.442Z\n",
      "Date d'arrivée :  2018-04-07T16:12:25.280Z\n",
      "Moyen de transport :  FLYING\n",
      "Distance :  420638\n",
      "-------------------------------------------\n",
      "\n",
      "Dépalcement : \n",
      "\n",
      "Localisation Latitude E7 de départ :  40.6413111\n",
      "Localisation Longitude E7 de départ :  -73.7781391\n",
      "Localisation Latitude E7 d'arrivée :  40.4957722\n",
      "Localisation Longitude E7 d'arrivée :  -80.2413113\n",
      "Date de départ :  2018-04-23T19:41:39Z\n",
      "Date d'arrivée :  2018-04-23T21:19:20.804Z\n",
      "Moyen de transport :  FLYING\n",
      "Distance :  606740\n",
      "-------------------------------------------\n",
      "\n",
      "Dépalcement : \n",
      "\n",
      "Localisation Latitude E7 de départ :  40.4957722\n",
      "Localisation Longitude E7 de départ :  -80.2413113\n",
      "Localisation Latitude E7 d'arrivée :  42.3656132\n",
      "Localisation Longitude E7 d'arrivée :  -71.0095602\n",
      "Date de départ :  2018-06-14T18:49:16.477Z\n",
      "Date d'arrivée :  2018-06-14T20:36:52Z\n",
      "Moyen de transport :  FLYING\n",
      "Distance :  796771\n",
      "-------------------------------------------\n",
      "\n",
      "Dépalcement : \n",
      "\n",
      "Localisation Latitude E7 de départ :  42.3656132\n",
      "Localisation Longitude E7 de départ :  -71.0095602\n",
      "Localisation Latitude E7 d'arrivée :  45.680602\n",
      "Localisation Longitude E7 d'arrivée :  4.791648\n",
      "Date de départ :  2018-06-14T22:21:26.158Z\n",
      "Date d'arrivée :  2018-06-15T17:26:41.584Z\n",
      "Moyen de transport :  FLYING\n",
      "Distance :  5344511\n",
      "-------------------------------------------\n",
      "\n",
      "Dépalcement : \n",
      "\n",
      "Localisation Latitude E7 de départ :  49.1832228\n",
      "Localisation Longitude E7 de départ :  -0.4591495\n",
      "Localisation Latitude E7 d'arrivée :  45.8375643\n",
      "Localisation Longitude E7 d'arrivée :  4.5369087\n",
      "Date de départ :  2018-09-24T17:22:39.469Z\n",
      "Date d'arrivée :  2018-09-24T18:53:02.762Z\n",
      "Moyen de transport :  FLYING\n",
      "Distance :  528179\n",
      "-------------------------------------------\n",
      "\n"
     ]
    }
   ],
   "source": [
    "for activity in Activity:\n",
    "    if activity.transport == 'FLYING':\n",
    "        activity.print_information()"
   ]
  },
  {
   "cell_type": "code",
   "execution_count": 9,
   "metadata": {},
   "outputs": [
    {
     "data": {
      "text/plain": [
       "{'IN_PASSENGER_VEHICLE': 1450,\n",
       " 'CYCLING': 651,\n",
       " 'WALKING': 1473,\n",
       " 'UNKNOWN_ACTIVITY_TYPE': 75,\n",
       " 'IN_FERRY': 1,\n",
       " 'FLYING': 8,\n",
       " 'IN_BUS': 91,\n",
       " 'MOTORCYCLING': 7,\n",
       " 'IN_TRAIN': 7,\n",
       " 'IN_SUBWAY': 107,\n",
       " 'RUNNING': 2,\n",
       " 'IN_TRAM': 1}"
      ]
     },
     "execution_count": 9,
     "metadata": {},
     "output_type": "execute_result"
    }
   ],
   "source": [
    "recap_dict"
   ]
  },
  {
   "cell_type": "code",
   "execution_count": 20,
   "metadata": {},
   "outputs": [
    {
     "name": "stdout",
     "output_type": "stream",
     "text": [
      "Lieux : \n",
      "\n",
      "Localisation Latitude E7:  453599530\n",
      "Localisation Longitude E7:  51342580\n",
      "Localisation Adresse:  RÃ©sidence GenÃªts, 38260 Pajay, France\n",
      "Localisation Nom:  Ilkhan Ismet\n",
      "De :  2016-08-22T11:29:42.151Z\n",
      "A :  2016-08-22T11:29:42.151Z\n",
      "-------------------------------------------\n",
      "\n"
     ]
    }
   ],
   "source": [
    "Places[0].print_information()"
   ]
  },
  {
   "cell_type": "code",
   "execution_count": null,
   "metadata": {},
   "outputs": [],
   "source": []
  },
  {
   "cell_type": "code",
   "execution_count": null,
   "metadata": {},
   "outputs": [],
   "source": []
  }
 ],
 "metadata": {
  "interpreter": {
   "hash": "0be7585e0f71d89335fa8e68b24c538e7716069dbe4ad84934fe781d03518565"
  },
  "kernelspec": {
   "display_name": "Python 3 (ipykernel)",
   "language": "python",
   "name": "python3"
  },
  "language_info": {
   "codemirror_mode": {
    "name": "ipython",
    "version": 3
   },
   "file_extension": ".py",
   "mimetype": "text/x-python",
   "name": "python",
   "nbconvert_exporter": "python",
   "pygments_lexer": "ipython3",
   "version": "3.9.7"
  }
 },
 "nbformat": 4,
 "nbformat_minor": 2
}
